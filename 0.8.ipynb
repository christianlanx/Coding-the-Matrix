{
 "cells": [
  {
   "cell_type": "code",
   "execution_count": 3,
   "metadata": {},
   "outputs": [],
   "source": [
    "#0.8.1 increments(L)\n",
    "#input: list L of numbers\n",
    "#output: list of numbers in which the ith elemnt is one plus the ith element of L\n",
    "def increments(L): return [1+a for a in L]"
   ]
  },
  {
   "cell_type": "code",
   "execution_count": 4,
   "metadata": {},
   "outputs": [
    {
     "data": {
      "text/plain": [
       "[2, 6, 8]"
      ]
     },
     "execution_count": 4,
     "metadata": {},
     "output_type": "execute_result"
    }
   ],
   "source": [
    "increments([1,5,7])"
   ]
  },
  {
   "cell_type": "code",
   "execution_count": 5,
   "metadata": {},
   "outputs": [],
   "source": [
    "#0.8.2 cubes(L)\n",
    "#input: list L of numbers\n",
    "#output: list of numbers in which the ith element is the cube of the ith element of L\n",
    "def cubes(L) : return [a**3 for a in L]"
   ]
  },
  {
   "cell_type": "code",
   "execution_count": 7,
   "metadata": {},
   "outputs": [
    {
     "data": {
      "text/plain": [
       "[1, 8, 27]"
      ]
     },
     "execution_count": 7,
     "metadata": {},
     "output_type": "execute_result"
    }
   ],
   "source": [
    "cubes([1,2,3])"
   ]
  },
  {
   "cell_type": "code",
   "execution_count": 10,
   "metadata": {},
   "outputs": [],
   "source": [
    "#0.8.3 tuple_sums(A,B)\n",
    "#input: lists A and B of the same length, where each element in each list is a pair (x,y) of numbers\n",
    "#output: lists of pairs (x,y) in which the first element of the ith pair is the sum of the first element of the ith pair in A and the\n",
    "# first element of the ith pair in B\n",
    "def tuple_sums(A,B): return [(a+c,b+d) for ((a,b),(c,d)) in zip(A,B)]"
   ]
  },
  {
   "cell_type": "code",
   "execution_count": 11,
   "metadata": {},
   "outputs": [
    {
     "data": {
      "text/plain": [
       "[(4, 6), (40, 60)]"
      ]
     },
     "execution_count": 11,
     "metadata": {},
     "output_type": "execute_result"
    }
   ],
   "source": [
    "tuple_sums([(1,2),(10,20)],[(3,4),(30,40)])"
   ]
  },
  {
   "cell_type": "code",
   "execution_count": 16,
   "metadata": {},
   "outputs": [],
   "source": [
    "#0.8.4 inv_dict(d)\n",
    "#input: dictionary d representing an invertible function f\n",
    "#output: dictionary representing the inverse of f, the returned dictionary's keys are the values of d and its values are the keys of d\n",
    "def inv_dict(d) : return {d[k]:k for k in d}"
   ]
  },
  {
   "cell_type": "code",
   "execution_count": 17,
   "metadata": {},
   "outputs": [
    {
     "data": {
      "text/plain": [
       "{'merci': 'thank you', 'au revoir': 'goodbye'}"
      ]
     },
     "execution_count": 17,
     "metadata": {},
     "output_type": "execute_result"
    }
   ],
   "source": [
    "inv_dict({'thank you':'merci','goodbye':'au revoir'})"
   ]
  },
  {
   "cell_type": "code",
   "execution_count": 18,
   "metadata": {},
   "outputs": [],
   "source": [
    "#0.8.5 First write a procedure row(p,n) with the following spec:\n",
    "#input: integer p, integer n\n",
    "#output: n-element list such that element i is p+i\n",
    "def row(p,n) : return [p+i for i in range(n)]"
   ]
  },
  {
   "cell_type": "code",
   "execution_count": 19,
   "metadata": {},
   "outputs": [
    {
     "data": {
      "text/plain": [
       "[10, 11, 12, 13]"
      ]
     },
     "execution_count": 19,
     "metadata": {},
     "output_type": "execute_result"
    }
   ],
   "source": [
    "row(10,4)"
   ]
  },
  {
   "cell_type": "code",
   "execution_count": 21,
   "metadata": {},
   "outputs": [],
   "source": [
    "#0.8.5 next write a omprehension whose value is a 15=element list of 20-elemnet lists such that the jth element of the ith list is i+j\n"
   ]
  },
  {
   "cell_type": "code",
   "execution_count": 23,
   "metadata": {},
   "outputs": [
    {
     "data": {
      "text/plain": [
       "'FUNCTIONAL INVERSES'"
      ]
     },
     "execution_count": 23,
     "metadata": {},
     "output_type": "execute_result"
    }
   ],
   "source": [
    "\"FUNCTIONAL INVERSES\""
   ]
  },
  {
   "cell_type": "code",
   "execution_count": null,
   "metadata": {},
   "outputs": [],
   "source": [
    "#0.8.6\n"
   ]
  }
 ],
 "metadata": {
  "kernelspec": {
   "display_name": "Python 3",
   "language": "python",
   "name": "python3"
  },
  "language_info": {
   "codemirror_mode": {
    "name": "ipython",
    "version": 3
   },
   "file_extension": ".py",
   "mimetype": "text/x-python",
   "name": "python",
   "nbconvert_exporter": "python",
   "pygments_lexer": "ipython3",
   "version": "3.7.3"
  }
 },
 "nbformat": 4,
 "nbformat_minor": 2
}
